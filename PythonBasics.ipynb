{
 "cells": [
  {
   "cell_type": "code",
   "execution_count": null,
   "id": "1438ed87-36f9-4d08-bef0-19b5ca8d92d1",
   "metadata": {},
   "outputs": [],
   "source": [
    "# Introduction to Python - Practice Exercise\n",
    "\n",
    "# Task 1: Variable Declaration and Data Types\n",
    "# Declare variables of different types and print their values and types\n",
    "\n",
    "# Task 2: String Manipulation\n",
    "# Create a string variable and use at least 3 different string methods on it\n",
    "\n",
    "# Task 3: Basic Operations\n",
    "# Perform arithmetic, comparison, and logical operations with variables\n",
    "\n",
    "# Task 4: Data Collections\n",
    "# Create examples of a list, dictionary, and tuple, then access specific elements\n",
    "\n",
    "# Task 5: Expression Combination\n",
    "# Write an expression that combines multiple operations and variables"
   ]
  },
  {
   "cell_type": "code",
   "execution_count": null,
   "id": "6a4f5789-b894-4887-8be2-d81e0aa549c6",
   "metadata": {},
   "outputs": [],
   "source": [
    "#Task 1\n",
    "\n",
    "#int\n",
    "number_of_baseballs = 20"
   ]
  },
  {
   "cell_type": "code",
   "execution_count": null,
   "id": "eeaa81e1-a354-473c-a13d-383c7d5e5c38",
   "metadata": {},
   "outputs": [],
   "source": [
    "#string\n",
    "name_of_game = \"baseball\""
   ]
  },
  {
   "cell_type": "code",
   "execution_count": null,
   "id": "1b94a6c5-b784-4843-b64a-2373128689aa",
   "metadata": {},
   "outputs": [],
   "source": [
    "#float\n",
    "speed_of_pitch = 94.6"
   ]
  },
  {
   "cell_type": "code",
   "execution_count": null,
   "id": "58b08d18-4c2a-4854-b440-dc6afcdbb26b",
   "metadata": {},
   "outputs": [],
   "source": [
    "#print variable values\n",
    "print(number_of_baseballs, name_of_game, speed_of_pitch)"
   ]
  },
  {
   "cell_type": "code",
   "execution_count": null,
   "id": "8cfd8139-b374-425e-8ea3-0288c67c3bbf",
   "metadata": {},
   "outputs": [],
   "source": [
    "#print variable types\n",
    "print(type(number_of_baseballs))\n",
    "print(type(name_of_game))\n",
    "print(type(speed_of_pitch))"
   ]
  },
  {
   "cell_type": "code",
   "execution_count": null,
   "id": "f2ed1ff3-0521-41e5-97dd-885a528fbf1a",
   "metadata": {},
   "outputs": [],
   "source": [
    "#Task 2: String Methods\n",
    "\n",
    "object = \"Refrigerator\"\n",
    "location = \"Kitchen\""
   ]
  },
  {
   "cell_type": "code",
   "execution_count": null,
   "id": "0ddfc95d-13cc-4288-9235-f2be6232fd19",
   "metadata": {},
   "outputs": [],
   "source": [
    "#Uppercase\n",
    "print(object.upper())"
   ]
  },
  {
   "cell_type": "code",
   "execution_count": null,
   "id": "bdd92f6d-05c0-4190-9c7b-26c8ee1f17a9",
   "metadata": {},
   "outputs": [],
   "source": [
    "#Replace\n",
    "print(object.replace(\"Refrigerator\", \"Oven\"))"
   ]
  },
  {
   "cell_type": "code",
   "execution_count": null,
   "id": "92d9149c-9e6c-4e8e-9c34-24632be510a0",
   "metadata": {},
   "outputs": [],
   "source": [
    "print(object)"
   ]
  },
  {
   "cell_type": "code",
   "execution_count": null,
   "id": "7b70b80c-9c2a-456e-a024-ecc815c12a32",
   "metadata": {},
   "outputs": [],
   "source": [
    "#Index\n",
    "print(location.index(\"ch\"))"
   ]
  },
  {
   "cell_type": "code",
   "execution_count": null,
   "id": "11757826-2de2-474b-9e55-d2502eca909d",
   "metadata": {},
   "outputs": [],
   "source": [
    "#Task 3: Basic Operations\n",
    "\n",
    "x = 20\n",
    "y = 15"
   ]
  },
  {
   "cell_type": "code",
   "execution_count": null,
   "id": "f0d1fde1-359a-474c-a6e2-581d03e6fbda",
   "metadata": {},
   "outputs": [],
   "source": [
    "#Arithmetic\n",
    "print(x+y, x-y, x*y, x/y, x%y, x**y)"
   ]
  },
  {
   "cell_type": "code",
   "execution_count": null,
   "id": "c8e08e85-e6ab-462a-8e00-39df2fb7af8e",
   "metadata": {},
   "outputs": [],
   "source": [
    "#Comparison\n",
    "print(x>y, x<y, x==y, x!=y, x>=y, x<=y)"
   ]
  },
  {
   "cell_type": "code",
   "execution_count": null,
   "id": "e8d2eb7f-4aa3-4590-9401-a75170b11429",
   "metadata": {},
   "outputs": [],
   "source": [
    "#Logical\n",
    "print(x>10 and y<20, x<10 or y>18, not (x==y))"
   ]
  },
  {
   "cell_type": "code",
   "execution_count": null,
   "id": "d42f8621-eeb0-4a08-b120-2d1bbe1c3269",
   "metadata": {},
   "outputs": [],
   "source": []
  }
 ],
 "metadata": {
  "kernelspec": {
   "display_name": "Python 3 (ipykernel)",
   "language": "python",
   "name": "python3"
  },
  "language_info": {
   "codemirror_mode": {
    "name": "ipython",
    "version": 3
   },
   "file_extension": ".py",
   "mimetype": "text/x-python",
   "name": "python",
   "nbconvert_exporter": "python",
   "pygments_lexer": "ipython3",
   "version": "3.13.2"
  }
 },
 "nbformat": 4,
 "nbformat_minor": 5
}
